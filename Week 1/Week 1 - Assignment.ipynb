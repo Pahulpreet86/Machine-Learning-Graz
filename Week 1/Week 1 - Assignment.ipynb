{
 "cells": [
  {
   "cell_type": "markdown",
   "metadata": {},
   "source": [
    "# Assignment Week 1\n",
    "![alt text](https://secure.meetupstatic.com/photos/event/c/9/7/a/600_487911578.jpeg)\n",
    "\n",
    "Welcome to week 1        \n",
    "Video of Live Stream - https://www.youtube.com/watch?v=PTnxaIFJ2iM"
   ]
  },
  {
   "cell_type": "markdown",
   "metadata": {},
   "source": [
    "#### 1. Find the mean for the following set of data: 10, 3, 5, 6."
   ]
  },
  {
   "cell_type": "code",
   "execution_count": 1,
   "metadata": {},
   "outputs": [
    {
     "name": "stdout",
     "output_type": "stream",
     "text": [
      "Mean: 6.0\n"
     ]
    }
   ],
   "source": [
    "import numpy as np\n",
    "data=[10, 3, 5, 6]\n",
    "print(\"Mean:\",np.mean(data))"
   ]
  },
  {
   "cell_type": "markdown",
   "metadata": {},
   "source": [
    "#### 2. Jen has  10, Connie has $15, and Elsa has $2. What is the average amount of money each person has?"
   ]
  },
  {
   "cell_type": "code",
   "execution_count": 2,
   "metadata": {},
   "outputs": [
    {
     "name": "stdout",
     "output_type": "stream",
     "text": [
      "Avg: 9.0\n"
     ]
    }
   ],
   "source": [
    "data=[10, 15, 2]\n",
    "print(\"Avg:\",np.mean(data))"
   ]
  },
  {
   "cell_type": "markdown",
   "metadata": {},
   "source": [
    "#### 3. Find the median of the following list of numbers: 77, 68, 84, 90, 82, 100, 76.\n"
   ]
  },
  {
   "cell_type": "code",
   "execution_count": 3,
   "metadata": {},
   "outputs": [
    {
     "name": "stdout",
     "output_type": "stream",
     "text": [
      "Median: 82.0\n"
     ]
    }
   ],
   "source": [
    "data=[77, 68, 84, 90, 82, 100, 76]\n",
    "print(\"Median:\",np.median(data))"
   ]
  },
  {
   "cell_type": "markdown",
   "metadata": {},
   "source": [
    "#### 4. Find the median of the following list of numbers: -1, 3, -10, 0, 20.\n",
    "\n"
   ]
  },
  {
   "cell_type": "code",
   "execution_count": 4,
   "metadata": {},
   "outputs": [
    {
     "name": "stdout",
     "output_type": "stream",
     "text": [
      "Median: 0.0\n"
     ]
    }
   ],
   "source": [
    "data=[-1, 3, -10, 0, 20]\n",
    "print(\"Median:\",np.median(data))"
   ]
  },
  {
   "cell_type": "markdown",
   "metadata": {},
   "source": [
    "#### 5. Find the median of the following list of numbers: 3, 0, 1, 2, 2, 4, 6, 3.\n"
   ]
  },
  {
   "cell_type": "code",
   "execution_count": 5,
   "metadata": {},
   "outputs": [
    {
     "name": "stdout",
     "output_type": "stream",
     "text": [
      "Median: 2.5\n"
     ]
    }
   ],
   "source": [
    "data=[3, 0, 1, 2, 2, 4, 6, 3]\n",
    "print(\"Median:\",np.median(data))"
   ]
  },
  {
   "cell_type": "markdown",
   "metadata": {},
   "source": [
    "#### 6. Determine whether the following statement refers to discrete or continuous data. Mrs. Smith gave a test on which the maximum possible score was 100. The actual scores students received were 92, 87, 86, 85.5, 72, 70, 70, and 61."
   ]
  },
  {
   "cell_type": "markdown",
   "metadata": {},
   "source": [
    "Ans: Discrete Data"
   ]
  },
  {
   "cell_type": "markdown",
   "metadata": {},
   "source": [
    "#### 7. Determine whether the following statement refers to ordinal, nominal, discrete or continuous data. Mrs. Smith gave an exam on which she graded with marks A, D, B, C,D and F"
   ]
  },
  {
   "cell_type": "markdown",
   "metadata": {},
   "source": [
    "Ans: Ordinal"
   ]
  },
  {
   "cell_type": "markdown",
   "metadata": {},
   "source": [
    "#### 8. Determine whether the event is independent or dependent: Flipping heads on a coin and then flipping tails on that same coin."
   ]
  },
  {
   "cell_type": "markdown",
   "metadata": {},
   "source": [
    "Ans: Independent"
   ]
  },
  {
   "cell_type": "markdown",
   "metadata": {},
   "source": [
    "#### 9.  Determine whether the event is independent or dependent: Drawing a king from a deck of cards and then, without replacing the king, drawing a queen from the same deck of cards."
   ]
  },
  {
   "cell_type": "markdown",
   "metadata": {},
   "source": [
    "Ans: Dependent"
   ]
  },
  {
   "cell_type": "markdown",
   "metadata": {},
   "source": [
    "#### 10. There are 4 parents, 3 students and 6 teachers in a room. If a person is selected at random, what is the probability that it is a teacher or a student?"
   ]
  },
  {
   "cell_type": "markdown",
   "metadata": {},
   "source": [
    "Ans:         \n",
    "Total=4+3+6=13\n",
    "\n",
    "p(Parent)=4/13\n",
    "\n",
    "p(Teacher)=6/13\n",
    "\n",
    "p(Student)=3/13\n",
    "\n",
    "\n",
    "p(Teacher) ⋃ p(Student) = 6/13 + 3/13 = 9/13"
   ]
  },
  {
   "cell_type": "markdown",
   "metadata": {},
   "source": [
    "#### 11. A jar has 10 vanilla candies, 4 chocolate candies, and 1 strawberry candy. If 2 candies are drawn at random from the jar without replacement, what is the probability that both are strawberry?\n"
   ]
  },
  {
   "cell_type": "markdown",
   "metadata": {},
   "source": [
    "Ans:                 \n",
    "Total = 10+4+1=15\n",
    "\n",
    "p(First is Strawberry) = 1/15\n",
    "\n",
    "Without Replacement \n",
    "\n",
    "p(Second is Strawberry)=0/15\n",
    "\n",
    "\n",
    "p(First is Strawberry) ⋂ p(Second is Strawberry) = 6/13 * 0/15 = 0\n",
    "\n"
   ]
  },
  {
   "cell_type": "markdown",
   "metadata": {},
   "source": [
    "#### 12. A lot of phenomenons follow a Gaussian Distribution. Search on the internet two examples of an event that follows a Gaussian Distribution. (ex. Height distribution among humans) *"
   ]
  },
  {
   "cell_type": "markdown",
   "metadata": {},
   "source": [
    "Ans: \n",
    "    1. Fair Rolling of Dice\n",
    "    2. Tossing A Coin\n",
    "    3. Birth Weight\n",
    "    4. IQ of population"
   ]
  }
 ],
 "metadata": {
  "kernelspec": {
   "display_name": "Python 3",
   "language": "python",
   "name": "python3"
  },
  "language_info": {
   "codemirror_mode": {
    "name": "ipython",
    "version": 3
   },
   "file_extension": ".py",
   "mimetype": "text/x-python",
   "name": "python",
   "nbconvert_exporter": "python",
   "pygments_lexer": "ipython3",
   "version": "3.7.3"
  }
 },
 "nbformat": 4,
 "nbformat_minor": 4
}
