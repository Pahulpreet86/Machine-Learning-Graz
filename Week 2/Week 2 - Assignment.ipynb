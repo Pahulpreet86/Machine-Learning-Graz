{
 "cells": [
  {
   "cell_type": "markdown",
   "metadata": {
    "colab_type": "text",
    "id": "ICEGM7KHcH9K"
   },
   "source": [
    "# Assignment Week 2\n",
    "![alt text](https://secure.meetupstatic.com/photos/event/c/9/7/a/600_487911578.jpeg)\n",
    "\n",
    "Welcome to week 2             \n",
    "Video of Live Stream -  https://www.youtube.com/watch?v=QHvhF6cJeTA\n",
    "\n"
   ]
  },
  {
   "cell_type": "markdown",
   "metadata": {
    "colab_type": "text",
    "id": "G-tE_Tdobm__"
   },
   "source": [
    "# Dowload Data"
   ]
  },
  {
   "cell_type": "markdown",
   "metadata": {
    "colab_type": "text",
    "id": "ajFUSeDZcGP2"
   },
   "source": []
  },
  {
   "cell_type": "code",
   "execution_count": 1,
   "metadata": {
    "colab": {
     "base_uri": "https://localhost:8080/",
     "height": 204
    },
    "colab_type": "code",
    "id": "8hrKHNJ3bodn",
    "outputId": "541b0c40-dbe9-4f31-a00b-d09f1a51d373"
   },
   "outputs": [
    {
     "name": "stdout",
     "output_type": "stream",
     "text": [
      "--2020-04-07 18:52:49--  https://www.mlgraz.at/course_files/week2/spotify_mlgraz.csv\n",
      "Resolving www.mlgraz.at (www.mlgraz.at)... 81.19.159.92, 64:ff9b::5113:9f5c\n",
      "Connecting to www.mlgraz.at (www.mlgraz.at)|81.19.159.92|:443... connected.\n",
      "HTTP request sent, awaiting response... 200 OK\n",
      "Length: 167862 (164K) [text/csv]\n",
      "Saving to: ‘spotify_mlgraz.csv.2’\n",
      "\n",
      "spotify_mlgraz.csv. 100%[===================>] 163.93K   131KB/s    in 1.3s    \n",
      "\n",
      "2020-04-07 18:52:51 (131 KB/s) - ‘spotify_mlgraz.csv.2’ saved [167862/167862]\n",
      "\n"
     ]
    }
   ],
   "source": [
    "!wget https://www.mlgraz.at/course_files/week2/spotify_mlgraz.csv"
   ]
  },
  {
   "cell_type": "markdown",
   "metadata": {
    "colab_type": "text",
    "id": "lgGgbz3Ib1fp"
   },
   "source": [
    "# Load Libraries"
   ]
  },
  {
   "cell_type": "code",
   "execution_count": 2,
   "metadata": {
    "colab": {},
    "colab_type": "code",
    "id": "a2VbVQdgb4NE"
   },
   "outputs": [],
   "source": [
    "import pandas as pd"
   ]
  },
  {
   "cell_type": "code",
   "execution_count": 3,
   "metadata": {
    "colab": {},
    "colab_type": "code",
    "id": "vBh8xUG1b5QM"
   },
   "outputs": [],
   "source": [
    "df = pd.read_csv(\"spotify_mlgraz.csv\")"
   ]
  },
  {
   "cell_type": "code",
   "execution_count": 4,
   "metadata": {
    "colab": {
     "base_uri": "https://localhost:8080/",
     "height": 306
    },
    "colab_type": "code",
    "id": "9bxwMOFIb_iU",
    "outputId": "7f489725-c91a-4155-a835-f950277a5faa"
   },
   "outputs": [
    {
     "data": {
      "text/html": [
       "<div>\n",
       "<style scoped>\n",
       "    .dataframe tbody tr th:only-of-type {\n",
       "        vertical-align: middle;\n",
       "    }\n",
       "\n",
       "    .dataframe tbody tr th {\n",
       "        vertical-align: top;\n",
       "    }\n",
       "\n",
       "    .dataframe thead th {\n",
       "        text-align: right;\n",
       "    }\n",
       "</style>\n",
       "<table border=\"1\" class=\"dataframe\">\n",
       "  <thead>\n",
       "    <tr style=\"text-align: right;\">\n",
       "      <th></th>\n",
       "      <th>Index</th>\n",
       "      <th>Title</th>\n",
       "      <th>Artist</th>\n",
       "      <th>Genre</th>\n",
       "      <th>Year</th>\n",
       "      <th>BPM</th>\n",
       "      <th>Energy</th>\n",
       "      <th>Danceability</th>\n",
       "      <th>dB</th>\n",
       "      <th>Liveness</th>\n",
       "      <th>Valence</th>\n",
       "      <th>Length</th>\n",
       "      <th>Acousticness</th>\n",
       "      <th>Speechiness</th>\n",
       "      <th>Popularity</th>\n",
       "    </tr>\n",
       "  </thead>\n",
       "  <tbody>\n",
       "    <tr>\n",
       "      <th>0</th>\n",
       "      <td>1</td>\n",
       "      <td>Sunrise</td>\n",
       "      <td>Norah Jones</td>\n",
       "      <td>adult standards</td>\n",
       "      <td>2004</td>\n",
       "      <td>157</td>\n",
       "      <td>30</td>\n",
       "      <td>53</td>\n",
       "      <td>-14</td>\n",
       "      <td>11</td>\n",
       "      <td>68</td>\n",
       "      <td>201</td>\n",
       "      <td>94</td>\n",
       "      <td>3</td>\n",
       "      <td>71</td>\n",
       "    </tr>\n",
       "    <tr>\n",
       "      <th>1</th>\n",
       "      <td>2</td>\n",
       "      <td>Black Night</td>\n",
       "      <td>Deep Purple</td>\n",
       "      <td>album rock</td>\n",
       "      <td>2000</td>\n",
       "      <td>135</td>\n",
       "      <td>79</td>\n",
       "      <td>50</td>\n",
       "      <td>-11</td>\n",
       "      <td>17</td>\n",
       "      <td>81</td>\n",
       "      <td>207</td>\n",
       "      <td>17</td>\n",
       "      <td>7</td>\n",
       "      <td>39</td>\n",
       "    </tr>\n",
       "    <tr>\n",
       "      <th>2</th>\n",
       "      <td>3</td>\n",
       "      <td>Clint Eastwood</td>\n",
       "      <td>Gorillaz</td>\n",
       "      <td>alternative hip hop</td>\n",
       "      <td>2001</td>\n",
       "      <td>168</td>\n",
       "      <td>69</td>\n",
       "      <td>66</td>\n",
       "      <td>-9</td>\n",
       "      <td>7</td>\n",
       "      <td>52</td>\n",
       "      <td>341</td>\n",
       "      <td>2</td>\n",
       "      <td>17</td>\n",
       "      <td>69</td>\n",
       "    </tr>\n",
       "    <tr>\n",
       "      <th>3</th>\n",
       "      <td>4</td>\n",
       "      <td>The Pretender</td>\n",
       "      <td>Foo Fighters</td>\n",
       "      <td>alternative metal</td>\n",
       "      <td>2007</td>\n",
       "      <td>173</td>\n",
       "      <td>96</td>\n",
       "      <td>43</td>\n",
       "      <td>-4</td>\n",
       "      <td>3</td>\n",
       "      <td>37</td>\n",
       "      <td>269</td>\n",
       "      <td>0</td>\n",
       "      <td>4</td>\n",
       "      <td>76</td>\n",
       "    </tr>\n",
       "    <tr>\n",
       "      <th>4</th>\n",
       "      <td>5</td>\n",
       "      <td>Waitin' On A Sunny Day</td>\n",
       "      <td>Bruce Springsteen</td>\n",
       "      <td>classic rock</td>\n",
       "      <td>2002</td>\n",
       "      <td>106</td>\n",
       "      <td>82</td>\n",
       "      <td>58</td>\n",
       "      <td>-5</td>\n",
       "      <td>10</td>\n",
       "      <td>87</td>\n",
       "      <td>256</td>\n",
       "      <td>1</td>\n",
       "      <td>3</td>\n",
       "      <td>59</td>\n",
       "    </tr>\n",
       "  </tbody>\n",
       "</table>\n",
       "</div>"
      ],
      "text/plain": [
       "   Index                   Title             Artist                Genre  \\\n",
       "0      1                 Sunrise        Norah Jones      adult standards   \n",
       "1      2             Black Night        Deep Purple           album rock   \n",
       "2      3          Clint Eastwood           Gorillaz  alternative hip hop   \n",
       "3      4           The Pretender       Foo Fighters    alternative metal   \n",
       "4      5  Waitin' On A Sunny Day  Bruce Springsteen         classic rock   \n",
       "\n",
       "   Year  BPM  Energy  Danceability  dB  Liveness  Valence  Length  \\\n",
       "0  2004  157      30            53 -14        11       68     201   \n",
       "1  2000  135      79            50 -11        17       81     207   \n",
       "2  2001  168      69            66  -9         7       52     341   \n",
       "3  2007  173      96            43  -4         3       37     269   \n",
       "4  2002  106      82            58  -5        10       87     256   \n",
       "\n",
       "   Acousticness  Speechiness  Popularity  \n",
       "0            94            3          71  \n",
       "1            17            7          39  \n",
       "2             2           17          69  \n",
       "3             0            4          76  \n",
       "4             1            3          59  "
      ]
     },
     "execution_count": 4,
     "metadata": {},
     "output_type": "execute_result"
    }
   ],
   "source": [
    "df.head()"
   ]
  },
  {
   "cell_type": "markdown",
   "metadata": {
    "colab": {},
    "colab_type": "code",
    "id": "cypzF8VWaxT4"
   },
   "source": [
    "#### 1. How many rows and columns does this dataset have?"
   ]
  },
  {
   "cell_type": "code",
   "execution_count": 5,
   "metadata": {
    "colab": {
     "base_uri": "https://localhost:8080/",
     "height": 34
    },
    "colab_type": "code",
    "id": "1hq3qCCoaOpk",
    "outputId": "bcd1bef4-1166-401e-c3f2-50ce4b71a635"
   },
   "outputs": [
    {
     "name": "stdout",
     "output_type": "stream",
     "text": [
      "Number of Rows: 1994\n",
      "Number of Columns: 15\n"
     ]
    }
   ],
   "source": [
    "print(\"Number of Rows:\",df.shape[0])\n",
    "print(\"Number of Columns:\",df.shape[1])"
   ]
  },
  {
   "cell_type": "markdown",
   "metadata": {
    "colab": {},
    "colab_type": "code",
    "id": "eiD6YQytbR53"
   },
   "source": [
    "#### 2. How many missing values are in this dataset?"
   ]
  },
  {
   "cell_type": "code",
   "execution_count": 6,
   "metadata": {
    "colab": {
     "base_uri": "https://localhost:8080/",
     "height": 34
    },
    "colab_type": "code",
    "id": "0wCEC8GEbVuZ",
    "outputId": "97114203-c03f-4ee6-90b8-976cd121a55f"
   },
   "outputs": [
    {
     "name": "stdout",
     "output_type": "stream",
     "text": [
      "Number of Missing Values: 0\n"
     ]
    }
   ],
   "source": [
    "print(\"Number of Missing Values:\",df.isnull().sum().sum())"
   ]
  },
  {
   "cell_type": "markdown",
   "metadata": {
    "colab": {},
    "colab_type": "code",
    "id": "sxCA8CFqblvv"
   },
   "source": [
    "#### 3. How many different artists are in this dataset?"
   ]
  },
  {
   "cell_type": "code",
   "execution_count": 7,
   "metadata": {
    "colab": {
     "base_uri": "https://localhost:8080/",
     "height": 34
    },
    "colab_type": "code",
    "id": "dLW1c5dibsoF",
    "outputId": "5513efb7-521b-4041-cca9-9b625798afd6"
   },
   "outputs": [
    {
     "name": "stdout",
     "output_type": "stream",
     "text": [
      "Number of Unique Artist: 731\n"
     ]
    }
   ],
   "source": [
    "print(\"Number of Unique Artist:\",len(df.Artist.unique()))"
   ]
  },
  {
   "cell_type": "markdown",
   "metadata": {
    "colab": {},
    "colab_type": "code",
    "id": "klDN2gXVbwrG"
   },
   "source": [
    "#### 4. What is the most popular genre?"
   ]
  },
  {
   "cell_type": "code",
   "execution_count": 8,
   "metadata": {
    "colab": {
     "base_uri": "https://localhost:8080/",
     "height": 221
    },
    "colab_type": "code",
    "id": "kv-1xbtpb0eT",
    "outputId": "f9677965-ebc5-4434-80b8-95e3bc78fbc6"
   },
   "outputs": [
    {
     "name": "stdout",
     "output_type": "stream",
     "text": [
      "Most Popular Genre:  album rock\n"
     ]
    }
   ],
   "source": [
    "df_temp=pd.DataFrame(df.Genre.value_counts().sort_values(ascending=False)).reset_index()\n",
    "df_temp.columns=[\"Genre\",\"Freq\"]\n",
    "print(\"Most Popular Genre: \",df_temp[\"Genre\"].loc[0])"
   ]
  },
  {
   "cell_type": "markdown",
   "metadata": {
    "colab": {},
    "colab_type": "code",
    "id": "3b8qpDZAcLbO"
   },
   "source": [
    "#### 5. What is the title of the longest song?"
   ]
  },
  {
   "cell_type": "code",
   "execution_count": 9,
   "metadata": {
    "colab": {
     "base_uri": "https://localhost:8080/",
     "height": 80
    },
    "colab_type": "code",
    "id": "AitN6xE8cfJB",
    "outputId": "b0a51d17-e2c1-4107-e53c-95bf07a36a7e"
   },
   "outputs": [
    {
     "name": "stdout",
     "output_type": "stream",
     "text": [
      "Title of the Longest Song:  Echoes - Pink Floyd\n"
     ]
    }
   ],
   "source": [
    "print(\"Title of the Longest Song: \",(\" - \").join(df[df[\"Length\"]==df[\"Length\"].max()][[\"Title\",\"Artist\"]].values[0]))"
   ]
  },
  {
   "cell_type": "markdown",
   "metadata": {},
   "source": [
    "#### 6. What column has the highest negative correlation with popularity? Optional: Think of a Hypothesis. Why is it negative?"
   ]
  },
  {
   "cell_type": "code",
   "execution_count": 10,
   "metadata": {
    "colab": {
     "base_uri": "https://localhost:8080/",
     "height": 421
    },
    "colab_type": "code",
    "id": "RNjD5gj2b7DP",
    "outputId": "8e705294-9912-4ed0-bdad-ffc8387bc122"
   },
   "outputs": [
    {
     "name": "stdout",
     "output_type": "stream",
     "text": [
      "Highest Negative Correlation with Popularity:  Year\n"
     ]
    }
   ],
   "source": [
    "popularity_corr=df.corr()[-1:].transpose().sort_values(\"Popularity\").reset_index()\n",
    "print(\"Highest Negative Correlation with Popularity: \",popularity_corr[\"index\"].loc[0])\n"
   ]
  },
  {
   "cell_type": "markdown",
   "metadata": {
    "colab": {},
    "colab_type": "code",
    "id": "0awwwh9fdTCt"
   },
   "source": [
    "#### 7. Which artist has the most songs?"
   ]
  },
  {
   "cell_type": "code",
   "execution_count": 11,
   "metadata": {
    "colab": {
     "base_uri": "https://localhost:8080/",
     "height": 221
    },
    "colab_type": "code",
    "id": "Wu4iIZ77dqqK",
    "outputId": "9020ef56-a5a1-456b-bb75-5744f40e893e"
   },
   "outputs": [
    {
     "name": "stdout",
     "output_type": "stream",
     "text": [
      "Most Songs Artist:  Queen\n"
     ]
    }
   ],
   "source": [
    "df_temp=pd.DataFrame(df.Artist.value_counts().sort_values(ascending=False)).reset_index()\n",
    "df_temp.columns=[\"Artist\",\"Freq\"]\n",
    "print(\"Most Songs Artist: \",df_temp[\"Artist\"].loc[0])"
   ]
  },
  {
   "cell_type": "markdown",
   "metadata": {
    "colab": {},
    "colab_type": "code",
    "id": "di-asX0ddGUv"
   },
   "source": [
    "#### 8. What is the average beats per minute (BPM)?"
   ]
  },
  {
   "cell_type": "code",
   "execution_count": 12,
   "metadata": {
    "colab": {
     "base_uri": "https://localhost:8080/",
     "height": 34
    },
    "colab_type": "code",
    "id": "D7MVKpiDePZ7",
    "outputId": "0260c08d-22c2-4b44-a148-6697997efe0e"
   },
   "outputs": [
    {
     "name": "stdout",
     "output_type": "stream",
     "text": [
      "Averahe beats per minute (BPM): 120.21564694082247\n"
     ]
    }
   ],
   "source": [
    "print(\"Averahe beats per minute (BPM):\",df.BPM.mean())"
   ]
  },
  {
   "cell_type": "markdown",
   "metadata": {
    "colab": {},
    "colab_type": "code",
    "id": "uiaMwMQReU4b"
   },
   "source": [
    "#### 9. What is the average Energy of all Queens Songs?"
   ]
  },
  {
   "cell_type": "code",
   "execution_count": 13,
   "metadata": {
    "colab": {
     "base_uri": "https://localhost:8080/",
     "height": 51
    },
    "colab_type": "code",
    "id": "msHUBMNleZfd",
    "outputId": "2b5c8b57-12ec-4771-e50a-59bf6922931c"
   },
   "outputs": [
    {
     "name": "stdout",
     "output_type": "stream",
     "text": [
      "Average Energy of all Queens Songs:  62.729729729729726\n"
     ]
    }
   ],
   "source": [
    "print(\"Average Energy of all Queens Songs: \",df.loc[df[\"Artist\"]==\"Queen\",[\"Energy\"]].mean()[0])"
   ]
  },
  {
   "cell_type": "markdown",
   "metadata": {
    "colab": {},
    "colab_type": "code",
    "id": "gMLTwED0fW1p"
   },
   "source": [
    "#### 10. How many % of songs are there, which are before the year 2000?"
   ]
  },
  {
   "cell_type": "code",
   "execution_count": 14,
   "metadata": {
    "colab": {
     "base_uri": "https://localhost:8080/",
     "height": 34
    },
    "colab_type": "code",
    "id": "1wyIHa9Kfcw1",
    "outputId": "6f036c47-86ed-4018-d72a-4406a41579de"
   },
   "outputs": [
    {
     "name": "stdout",
     "output_type": "stream",
     "text": [
      "Percentage of Songs are there, which are before the year 2000:  59.93%\n"
     ]
    }
   ],
   "source": [
    "print(\"Percentage of Songs are there, which are before the year 2000: \",str(round((len(df[df[\"Year\"]<2000])/len(df))*100,2))+\"%\")"
   ]
  },
  {
   "cell_type": "markdown",
   "metadata": {},
   "source": [
    "#### 11. What is the least popular song by The Beatles?"
   ]
  },
  {
   "cell_type": "code",
   "execution_count": 15,
   "metadata": {
    "colab": {
     "base_uri": "https://localhost:8080/",
     "height": 80
    },
    "colab_type": "code",
    "id": "HvlBZ4O0fnzS",
    "outputId": "c3feddfc-d219-4b8f-f179-e5a2da51af40"
   },
   "outputs": [
    {
     "name": "stdout",
     "output_type": "stream",
     "text": [
      "Least popular song by The Beatles: Penny Lane\n"
     ]
    }
   ],
   "source": [
    "print(\"Least popular song by The Beatles:\",df.loc[df[\"Artist\"]==\"The Beatles\",[\"Title\",\"Popularity\"]].sort_values(\"Popularity\").values[0][0])"
   ]
  },
  {
   "cell_type": "markdown",
   "metadata": {
    "colab": {},
    "colab_type": "code",
    "id": "Iuipd2Gped1E"
   },
   "source": [
    "#### 12. I am listening to a song. It is from 1985. It has an Energy of 66. From all the songs that have this criteria, it has an average speachness score."
   ]
  },
  {
   "cell_type": "code",
   "execution_count": 16,
   "metadata": {
    "colab": {
     "base_uri": "https://localhost:8080/",
     "height": 80
    },
    "colab_type": "code",
    "id": "xNf_wxL4gcgs",
    "outputId": "b4d13c71-a064-4323-9eda-5f4e3795af27"
   },
   "outputs": [
    {
     "name": "stdout",
     "output_type": "stream",
     "text": [
      "Ans:  Money for Nothing - Dire Straits\n"
     ]
    }
   ],
   "source": [
    "year=1985\n",
    "Energy=66\n",
    "\n",
    "filter_df=df[(df[\"Year\"]==year)&(df[\"Energy\"]==Energy)]\n",
    "\n",
    "avg_speachness=filter_df[\"Speechiness\"].mean()\n",
    "\n",
    "print(\"Ans: \",(\" - \").join(filter_df.loc[df[\"Speechiness\"]==avg_speachness,[\"Title\",\"Artist\"]].values[0]))"
   ]
  }
 ],
 "metadata": {
  "colab": {
   "collapsed_sections": [],
   "name": "week 2 - assignment.ipynb",
   "provenance": []
  },
  "kernelspec": {
   "display_name": "Python 3",
   "language": "python",
   "name": "python3"
  },
  "language_info": {
   "codemirror_mode": {
    "name": "ipython",
    "version": 3
   },
   "file_extension": ".py",
   "mimetype": "text/x-python",
   "name": "python",
   "nbconvert_exporter": "python",
   "pygments_lexer": "ipython3",
   "version": "3.7.3"
  }
 },
 "nbformat": 4,
 "nbformat_minor": 1
}
